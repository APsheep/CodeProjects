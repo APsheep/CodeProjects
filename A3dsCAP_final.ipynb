{
 "cells": [
  {
   "cell_type": "code",
   "execution_count": 1,
   "id": "098139c5-3f6e-48df-bec0-527800f0450a",
   "metadata": {},
   "outputs": [],
   "source": [
    "import pandas as pd\n",
    "import numpy as np\n",
    "from datetime import datetime, timedelta"
   ]
  },
  {
   "cell_type": "code",
   "execution_count": 2,
   "id": "6352d2ba-865c-422e-b08c-ee4a8dfb46e2",
   "metadata": {},
   "outputs": [
    {
     "name": "stdout",
     "output_type": "stream",
     "text": [
      "      ID First Name Last Name  Gender  Age  Nationality Airport Country Code  \\\n",
      "0  22554      Tally   Unworth  Female   13    Indonesia                   PG   \n",
      "1  42928    Bobette   Turfitt  Female   38     Thailand                   CN   \n",
      "2  26198    Karalee     Gross  Female   75  Philippines                   US   \n",
      "3  56569    Laurene   Shilton  Female   32       Poland                   ID   \n",
      "4  65769      Nancy  McGuigan  Female   17      Albania                   MG   \n",
      "\n",
      "  Departure Date         Pilot Name  Ticket Price Eligible_For_Discount  \n",
      "0     12/10/2022     Gussie Ridding        1218.0                   Yes  \n",
      "1     09/06/2022     Ursola Faudrie         688.0                   Yes  \n",
      "2     03/11/2022      Kellia Bunney         824.0                   Yes  \n",
      "3      1/19/2022     Kial McCaighey         702.0                   Yes  \n",
      "4      3/24/2022  Pincas Lorenzetto        1120.0                   Yes  \n",
      "<class 'pandas.core.frame.DataFrame'>\n",
      "RangeIndex: 51462 entries, 0 to 51461\n",
      "Data columns (total 11 columns):\n",
      " #   Column                 Non-Null Count  Dtype  \n",
      "---  ------                 --------------  -----  \n",
      " 0   ID                     51462 non-null  int64  \n",
      " 1   First Name             51462 non-null  object \n",
      " 2   Last Name              51462 non-null  object \n",
      " 3   Gender                 51462 non-null  object \n",
      " 4   Age                    51462 non-null  int64  \n",
      " 5   Nationality            51462 non-null  object \n",
      " 6   Airport Country Code   51462 non-null  object \n",
      " 7   Departure Date         51462 non-null  object \n",
      " 8   Pilot Name             51462 non-null  object \n",
      " 9   Ticket Price           51462 non-null  float64\n",
      " 10  Eligible_For_Discount  51462 non-null  object \n",
      "dtypes: float64(1), int64(2), object(8)\n",
      "memory usage: 4.3+ MB\n",
      "None\n",
      "Index(['ID', 'First Name', 'Last Name', 'Gender', 'Age', 'Nationality',\n",
      "       'Airport Country Code', 'Departure Date', 'Pilot Name', 'Ticket Price',\n",
      "       'Eligible_For_Discount'],\n",
      "      dtype='object')\n",
      "  Airport Country Code    Country Name\n",
      "0                   US   United States\n",
      "1                   CA          Canada\n",
      "2                   FR          France\n",
      "3                   BR          Brazil\n",
      "4                   GB  United Kingdom\n"
     ]
    }
   ],
   "source": [
    "training_data = pd.read_csv('prediction_challenge_train.csv')\n",
    "air_map = pd.read_csv('airport_country_code_mapping.csv')\n",
    "\n",
    "print(training_data.head())\n",
    "print(training_data.info())\n",
    "print(training_data.columns)\n",
    "print(air_map.head())"
   ]
  },
  {
   "cell_type": "code",
   "execution_count": 3,
   "id": "0851f927-d483-42b5-9577-e4b6e2146fc1",
   "metadata": {},
   "outputs": [
    {
     "name": "stdout",
     "output_type": "stream",
     "text": [
      "24668\n"
     ]
    }
   ],
   "source": [
    "original = pd.read_csv('prediction_challenge_train.csv')\n",
    "original_no_count = original['Eligible_For_Discount'].value_counts().get('No', 0)\n",
    "print(original_no_count)"
   ]
  },
  {
   "cell_type": "code",
   "execution_count": 4,
   "id": "933e6e6c-21aa-4c49-ae88-31defbddb47f",
   "metadata": {},
   "outputs": [],
   "source": [
    "def age_category(age):\n",
    "    if age <= 13:\n",
    "        return 'Child'\n",
    "    elif age >= 86:\n",
    "        return 'Senior'\n",
    "    else:\n",
    "        return 'Adult'\n",
    "\n",
    "training_data['Age_Category'] = training_data['Age'].apply(age_category)"
   ]
  },
  {
   "cell_type": "code",
   "execution_count": 5,
   "id": "105d350d-3f72-4411-9a60-b58f856a54bb",
   "metadata": {},
   "outputs": [],
   "source": [
    "training_data['Departure Date'] = pd.to_datetime(training_data['Departure Date'], format='%m/%d/%Y', errors='coerce')\n",
    "\n",
    "training_data['Departure_Day'] = training_data['Departure Date'].dt.day  \n",
    "training_data['Departure_Month'] = training_data['Departure Date'].dt.month  \n",
    "training_data['Departure_Year'] = training_data['Departure Date'].dt.year  "
   ]
  },
  {
   "cell_type": "code",
   "execution_count": 6,
   "id": "0597956c-ca83-49af-ab4d-d6ef328598b0",
   "metadata": {},
   "outputs": [],
   "source": [
    "training_data[\"New_Date\"] = pd.to_datetime(\n",
    "    training_data[[\"Departure_Year\", \"Departure_Month\", \"Departure_Day\"]].rename(\n",
    "    columns={\"Departure_Year\": \"year\", \"Departure_Month\": \"month\", \"Departure_Day\": \"day\"}\n",
    "))\n",
    "training_data[\"Departure_Weekday\"] = training_data[\"New_Date\"].dt.weekday\n"
   ]
  },
  {
   "cell_type": "code",
   "execution_count": 9,
   "id": "375cc0ff-56a1-438f-a805-39e9e561ff16",
   "metadata": {},
   "outputs": [],
   "source": [
    "training_data = training_data.merge(air_map, on='Airport Country Code', how='left')"
   ]
  },
  {
   "cell_type": "code",
   "execution_count": 10,
   "id": "ee4be10c-ae55-4941-ab67-b70624b567b3",
   "metadata": {},
   "outputs": [
    {
     "name": "stdout",
     "output_type": "stream",
     "text": [
      "Eligible_For_Discount       Country Name        No       Yes\n",
      "0                            Afghanistan  0.512953  0.487047\n",
      "1                                Albania  0.800000  0.200000\n",
      "2                                Algeria  0.516260  0.483740\n",
      "3                         American Samoa  0.560000  0.440000\n",
      "4                                Andorra  0.666667  0.333333\n",
      "..                                   ...       ...       ...\n",
      "230                    Wallis and Futuna  0.333333  0.666667\n",
      "231                       Western Sahara  0.583333  0.416667\n",
      "232                                Yemen  0.494624  0.505376\n",
      "233                               Zambia  0.504587  0.495413\n",
      "234                             Zimbabwe  0.458824  0.541176\n",
      "\n",
      "[235 rows x 3 columns]\n"
     ]
    }
   ],
   "source": [
    "country_discounts = training_data.groupby(\"Country Name\")[\"Eligible_For_Discount\"].value_counts(normalize=True).unstack()\n",
    "country_discounts.reset_index(inplace=True)\n",
    "\n",
    "print(country_discounts)\n",
    "\n",
    "country_discounts.to_csv(\"country_discounts.csv\", index=False)"
   ]
  },
  {
   "cell_type": "code",
   "execution_count": 11,
   "id": "e037b532-b674-4619-b31e-06b8b72bd834",
   "metadata": {},
   "outputs": [
    {
     "name": "stdout",
     "output_type": "stream",
     "text": [
      "Eligible_For_Discount  Gender        No       Yes\n",
      "0                      Female  0.378608  0.621392\n",
      "1                        Male  0.594413  0.405587\n"
     ]
    }
   ],
   "source": [
    "gender_discounts = training_data.groupby(\"Gender\")[\"Eligible_For_Discount\"].value_counts(normalize=True).unstack()\n",
    "gender_discounts.reset_index(inplace=True)\n",
    "\n",
    "print(gender_discounts)\n",
    "\n",
    "gender_discounts.to_csv(\"gender_discounts.csv\", index=False)"
   ]
  },
  {
   "cell_type": "code",
   "execution_count": 13,
   "id": "6d09e0ab-8b87-4613-aff5-d4631b8d0491",
   "metadata": {},
   "outputs": [
    {
     "name": "stdout",
     "output_type": "stream",
     "text": [
      "Eligible_For_Discount  Departure_Weekday        No       Yes\n",
      "0                                      0  0.472818  0.527182\n",
      "1                                      1  0.497435  0.502565\n",
      "2                                      2  0.488021  0.511979\n",
      "3                                      3  0.475560  0.524440\n",
      "4                                      4  0.474124  0.525876\n",
      "5                                      5  0.472727  0.527273\n",
      "6                                      6  0.475381  0.524619\n"
     ]
    }
   ],
   "source": [
    "weekday_discounts = training_data.groupby(\"Departure_Weekday\")[\"Eligible_For_Discount\"].value_counts(normalize=True).unstack()\n",
    "weekday_discounts.reset_index(inplace=True)\n",
    "\n",
    "print(weekday_discounts)\n",
    "\n",
    "weekday_discounts.to_csv(\"weekday_discounts.csv\", index=False)"
   ]
  },
  {
   "cell_type": "code",
   "execution_count": 14,
   "id": "fd947df8-027d-4e3b-ae94-20df93a1765b",
   "metadata": {},
   "outputs": [
    {
     "name": "stdout",
     "output_type": "stream",
     "text": [
      "Eligible_For_Discount  Departure_Month        No       Yes\n",
      "0                                    1       NaN  1.000000\n",
      "1                                    2  0.629135  0.370865\n",
      "2                                    3  0.626521  0.373479\n",
      "3                                    4  0.633403  0.366597\n",
      "4                                    5  0.627551  0.372449\n",
      "5                                    6  0.633188  0.366812\n",
      "6                                    7  0.640129  0.359871\n",
      "7                                    8  0.623160  0.376840\n",
      "8                                    9  0.623410  0.376590\n",
      "9                                   10  0.619377  0.380623\n",
      "10                                  11  0.637594  0.362406\n",
      "11                                  12       NaN  1.000000\n"
     ]
    }
   ],
   "source": [
    "month_discounts = training_data.groupby(\"Departure_Month\")[\"Eligible_For_Discount\"].value_counts(normalize=True).unstack()\n",
    "month_discounts.reset_index(inplace=True)\n",
    "\n",
    "print(month_discounts)\n",
    "\n",
    "month_discounts.to_csv(\"month_discounts.csv\", index=False)"
   ]
  },
  {
   "cell_type": "code",
   "execution_count": 15,
   "id": "a30a8701-312f-4cdd-88b1-ae8752cac45e",
   "metadata": {},
   "outputs": [],
   "source": [
    "filtered_by_age = training_data[training_data['Age'] == 86]\n",
    "\n",
    "filtered_by_age.to_csv('filtered_by_age.csv', index=False)"
   ]
  },
  {
   "cell_type": "code",
   "execution_count": 18,
   "id": "a86e22de-888a-4129-9962-6b959aa629fd",
   "metadata": {},
   "outputs": [],
   "source": [
    "def predict_discount(row):\n",
    "\n",
    "    if row['Age'] <= 4 or row['Age'] >= 86:\n",
    "        return 'Yes'\n",
    "    \n",
    "    if row['Departure_Month'] in [1, 12]:\n",
    "        return 'Yes'\n",
    "    \n",
    "    #eligible_country_codes = [\"AG\", \"BB\", \"BY\", \"BT\", \"IO\", \"BN\", \"BI\", \"CN\", \"DK\", \"CY\", \"DM\", \"FK\", \"GM\", \"GI\", \"GG\", \"JM\", \"KW\", \"LV\", \"MT\", \"YT\", \"NE\", \"NF\", \"PW\"]\n",
    "    eligible_country_codes = [ \"NF\"]\n",
    "    if row['Airport Country Code'] in eligible_country_codes:\n",
    "        return 'Yes'\n",
    "\n",
    "    #if row['Ticket Price'] < 200:\n",
    "     #   return 'Yes'\n",
    "    \n",
    "    # Gender and high ticket price discount\n",
    "    #if row['Gender'] == 'Female' and row['Ticket Price'] <= 600 and row['Ticket Price'] >= 4000 : \n",
    "     #   return 'Yes'\n",
    "    \n",
    "    # Females get discounts if their ticket price is divisible by 4\n",
    "    if row[\"Gender\"] == \"Female\" and row[\"Ticket Price\"] % 4 == 0:\n",
    "        return 'Yes'\n",
    "\n",
    "    \n",
    "    if row[\"Nationality\"] == row[\"Country Name\"]:\n",
    "        return 'Yes'  \n",
    "    \n",
    "    return 'No'\n",
    "\n",
    "training_data['Predicted_Eligible_For_Discount'] = training_data.apply(predict_discount, axis=1)\n"
   ]
  },
  {
   "cell_type": "code",
   "execution_count": 19,
   "id": "b6d37ccc-5bc6-4034-8685-18c4ba9302c0",
   "metadata": {},
   "outputs": [
    {
     "name": "stdout",
     "output_type": "stream",
     "text": [
      "Accuracy of the model: 100.00%\n"
     ]
    }
   ],
   "source": [
    "accuracy = (training_data['Predicted_Eligible_For_Discount'] == training_data['Eligible_For_Discount']).mean()\n",
    "print(f'Accuracy of the model: {accuracy * 100:.2f}%')"
   ]
  },
  {
   "cell_type": "code",
   "execution_count": 20,
   "id": "851e6334-d7bd-476a-bc3c-583b7413f804",
   "metadata": {},
   "outputs": [],
   "source": [
    "training_data[[\"ID\", \"Predicted_Eligible_For_Discount\"]].to_csv(\"predictions.csv\", index=False)"
   ]
  },
  {
   "cell_type": "code",
   "execution_count": 21,
   "id": "355c68d0-b701-4f74-bae0-ce0105379ffc",
   "metadata": {},
   "outputs": [],
   "source": [
    "testing_data = pd.read_csv(\"prediction_challenge_test.csv\")"
   ]
  },
  {
   "cell_type": "code",
   "execution_count": 27,
   "id": "c86ba976-29b7-4596-9216-be095e6ac3f0",
   "metadata": {},
   "outputs": [],
   "source": [
    "testing_data['Departure Date'] = pd.to_datetime(testing_data['Departure Date'])\n",
    "\n",
    "testing_data['Departure_Month'] = testing_data['Departure Date'].dt.month\n",
    "\n",
    "if 'Country Name' not in testing_data.columns:\n",
    "    testing_data = testing_data.merge(air_map, on='Airport Country Code', how='left')\n",
    "testing_data['Eligible_For_Discount'] = testing_data.apply(predict_discount, axis=1)\n",
    "\n",
    "testing_data.to_csv(\"testing_predictions.csv\", index=False)"
   ]
  }
 ],
 "metadata": {
  "kernelspec": {
   "display_name": "Python 3 (ipykernel)",
   "language": "python",
   "name": "python3"
  },
  "language_info": {
   "codemirror_mode": {
    "name": "ipython",
    "version": 3
   },
   "file_extension": ".py",
   "mimetype": "text/x-python",
   "name": "python",
   "nbconvert_exporter": "python",
   "pygments_lexer": "ipython3",
   "version": "3.12.7"
  }
 },
 "nbformat": 4,
 "nbformat_minor": 5
}
