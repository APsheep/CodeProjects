{
 "cells": [
  {
   "cell_type": "markdown",
   "metadata": {},
   "source": [
    "Before you turn this problem in, make sure everything runs as expected. First, **restart the kernel** (in the menubar, select Kernel $\\rightarrow$ Restart) and then **run all cells** (in the menubar, select Cell $\\rightarrow$ Run All).\n",
    "\n",
    "Make sure you fill in any place that says `YOUR CODE HERE` or \"YOUR ANSWER HERE\", as well as your name and collaborators below:"
   ]
  },
  {
   "cell_type": "code",
   "execution_count": null,
   "metadata": {},
   "outputs": [],
   "source": [
    "NAME = \"Akshata Padalkar\"\n",
    "COLLABORATORS = \"\""
   ]
  },
  {
   "cell_type": "markdown",
   "metadata": {},
   "source": [
    "---"
   ]
  },
  {
   "cell_type": "markdown",
   "metadata": {
    "vscode": {
     "languageId": "plaintext"
    }
   },
   "source": [
    "Before you turn this problem in, make sure everything runs as expected. First, **restart the kernel** (in the menubar, select Kernel $\\to$ Restart) and then **run all cells** (in the menubar, select Cell $\\to$ Run All).\n",
    "\n",
    "Make sure you fill in any place that says `YOUR CODE HERE` or \"YOUR ANSWER HERE\", as well as your name and collaborators below:"
   ]
  },
  {
   "cell_type": "code",
   "execution_count": null,
   "metadata": {},
   "outputs": [],
   "source": [
    "NAME = \"Akshata Padalkar\"\n",
    "COLLABORATORS = \"\""
   ]
  },
  {
   "cell_type": "markdown",
   "metadata": {},
   "source": [
    "---"
   ]
  },
  {
   "cell_type": "markdown",
   "metadata": {},
   "source": [
    "<div class=\"alert alert-block alert-info\">\n",
    "<h3>Student Information</h3> Please provide information about yourself.<br>\n",
    "<b>Name</b>: Akshata Padalkar<br> \n",
    "<b>NetID</b>: ANP178<br>\n",
    "<b>Recitation #</b>:2<br>\n",
    "<b>Notes to Grader</b> (optional):<br>\n",
    "<br><br>\n",
    "<b>IMPORTANT</b>\n",
    "Your work will not be graded withour your initials below<br>\n",
    "I certify that this lab represents my own work and I have read the RU academic intergrity policies at<br>\n",
    "<a href=\"https://www.cs.rutgers.edu/academic-integrity/introduction\">https://www.cs.rutgers.edu/academic-integrity/introduction </a><br>\n",
    "<b>Initials</b>: AP     (eg: NC for Naina Chaturvedi)"
   ]
  },
  {
   "cell_type": "markdown",
   "metadata": {},
   "source": [
    "# CS 439 - Introduction to Data Science\n",
    "### Spring 2025\n",
    "\n",
    "## Lab 1 - Pandas, NumPy (100 points)\n",
    "### Due Date: Feb 19th, 2025\n",
    "\n",
    "Welcome to your first lab in Introduction to Data Science! In this lab, you will explore two fundamental libraries in Python: NumPy and Pandas. This notebook has multiple tasks that you need to complete. To complete a task, just double click on the cell (notebook must be opened in Jupyter/CodeBench) and enter your answer. Be sure to save the notebook often (ctrl-S or cmd-S) and execute the cell (Shift-Enter) to make sure you code is saved and executes correctly.\n",
    "\n",
    "### Lab Discussions\n",
    "Post any questions regarding this lab to canvas discussion board on Lab 01 or visit office hours.\n",
    "\n",
    "## Course Policies\n",
    "\n",
    "**Collaboration Policy**\n",
    "\n",
    "Data science is a collaborative activity. While you may talk with others about the labs, we ask that you **write your solutions individually**. You are not allowed to copy code from other notebooks. Attempting to submit code that is not yours can result in penalties and academic disciplinary actions. Please consult course staff for any clarification regarding collaboration policies.\n",
    "\n",
    "**AI Policy**\n",
    "\n",
    "We **only allow** the use of responsible **AI tool youchat** to help you find information as you write code to solve labs. The use of AI should be done cautiously. It **does not** free you from understanding the code you write. Being able to read, interpret and test code written by AI is required for you to answer questions in quizzes and exams. **DO NOT use** other AI tools such as chatGPT and Bard."
   ]
  },
  {
   "cell_type": "markdown",
   "metadata": {},
   "source": [
    "## Part 1: NumPy (40 Points)"
   ]
  },
  {
   "cell_type": "code",
   "execution_count": 40,
   "metadata": {},
   "outputs": [],
   "source": [
    "import numpy as np"
   ]
  },
  {
   "cell_type": "markdown",
   "metadata": {},
   "source": [
    "### Task 1: Inventory Data Reshaping (5 Points)\n",
    "\n",
    "- Task: A warehouse stores its inventory in a 3x4 grid where each cell represents the quantity of a product. Simulate this inventory using an array with random integers between 10 and 50. Then, reshape the array into a 2x6 grid.\n",
    "\n",
    "- Significance: Reshaping is crucial in numerical computations and machine learning to align data structures for efficient processing.\n",
    "\n",
    "- Output: Display the reshaped array, and it's shape\n",
    "\n"
   ]
  },
  {
   "cell_type": "code",
   "execution_count": 41,
   "metadata": {},
   "outputs": [
    {
     "name": "stdout",
     "output_type": "stream",
     "text": [
      "reshaped_A = \n",
      " [[46 43 11 35 45 36]\n",
      " [16 10 35 32 33 22]]\n",
      "Shape:  (2, 6)\n"
     ]
    }
   ],
   "source": [
    "# Code goes here\n",
    "A = np.random.randint(10, 50, (3, 4))\n",
    "#print(\"A =\\n\", A) \n",
    "reshaped_A = A.reshape(2, 6)\n",
    "print(\"reshaped_A = \\n\", reshaped_A)\n",
    "print(\"Shape: \", reshaped_A.shape)"
   ]
  },
  {
   "cell_type": "markdown",
   "metadata": {},
   "source": [
    "### Task 2: Structural Engineering Matrix (10 Points)\n",
    "\n",
    "- Task: A structural engineer wants to model a 5x5 stiffness matrix where the main diagonal represents primary support (value 1), and the upper and lower subdiagonals represents secondary support (value 2). Construct this matrix.\n",
    "\n",
    "- Significance: Diagonal matrices are widely used in engineering and physics to represent stiffness, resistance, or transformations.\n",
    "\n",
    "- Output: Display the matrix, and it's shape"
   ]
  },
  {
   "cell_type": "code",
   "execution_count": 42,
   "metadata": {},
   "outputs": [
    {
     "name": "stdout",
     "output_type": "stream",
     "text": [
      "[[1 2 0 0 0]\n",
      " [2 1 2 0 0]\n",
      " [0 2 1 2 0]\n",
      " [0 0 2 1 2]\n",
      " [0 0 0 2 1]]\n",
      "Shape:  (5, 5)\n"
     ]
    }
   ],
   "source": [
    "# Code goes here\n",
    "A = np.zeros((5,5),int)                                               \n",
    "A[range(5),range(5)]=1                                               \n",
    "A[range(4),range(1,5)]=2                                              \n",
    "A[range(1,5),range(4)]=2                                              \n",
    "print(A)    \n",
    "print(\"Shape: \", A.shape)"
   ]
  },
  {
   "cell_type": "markdown",
   "metadata": {},
   "source": [
    "### Task 3: Data Combination for Analysis (10 Points)\n",
    "- Task: A research study collects two separate 1D datasets of size 5. Combine these datasets into one and organize them into a 2x5 format. Also find the mean, median, and standard deviation of the combined dataset.\n",
    "\n",
    "- Significance: Combining datasets is fundamental in data science, allowing integration of multiple sources of information.\n",
    "\n",
    "- Output: Display the combined array, it's shape and the it's mean, median, and standard deviation."
   ]
  },
  {
   "cell_type": "code",
   "execution_count": 43,
   "metadata": {},
   "outputs": [
    {
     "name": "stdout",
     "output_type": "stream",
     "text": [
      "Matrix: \n",
      " [[12.4  4.1 45.2  4.3 44.1]\n",
      " [ 1.  45.   3.5 66.2  3. ]]\n",
      "\n",
      "Mean:  22.880000000000003 \n",
      "Median:  8.35 \n",
      "Standard Deviation:  23.176833260823187\n",
      "Shape:  (2, 5)\n"
     ]
    }
   ],
   "source": [
    "data1 = np.array([12.4, 4.1, 45.2, 4.3, 44.1])\n",
    "data2 = np.array([1, 45, 3.5, 66.2, 3])\n",
    "\n",
    "# Code goes here\n",
    "matrix = np.array([data1, data2])\n",
    "\n",
    "print(\"Matrix: \\n\", matrix)\n",
    "print()\n",
    "mean = np.mean(matrix)\n",
    "median = np.median(matrix)\n",
    "std = np.std(matrix)\n",
    "print(\"Mean: \", mean,\"\\nMedian: \", median,\"\\nStandard Deviation: \", std)\n",
    "print(\"Shape: \", matrix.shape)"
   ]
  },
  {
   "cell_type": "markdown",
   "metadata": {},
   "source": [
    "### Task 4: Linear Transformations in Computer Graphics (5 Points)\n",
    "\n",
    "- Task: Compute the transformed position when matrix A is applied to vector X, followed by translation b.\n",
    "\n",
    "- Significance: Linear transformations are essential for scaling, rotating, and translating objects in space.\n",
    "\n",
    "- Hint: Find `Ax + b` using Matrix multiplication and broadcasting\n",
    "\n",
    "- Output: Display the transformed matrix\n"
   ]
  },
  {
   "cell_type": "code",
   "execution_count": 44,
   "metadata": {},
   "outputs": [
    {
     "name": "stdout",
     "output_type": "stream",
     "text": [
      "[13 20]\n"
     ]
    }
   ],
   "source": [
    "A = np.array([[2, 3], [4, 5]])\n",
    "x = np.array([1, 2])\n",
    "b = np.array([5, 6])\n",
    "\n",
    "# Code goes here\n",
    "dot = np.dot(A,x)\n",
    "add = np.add(dot,b)\n",
    "print(add)"
   ]
  },
  {
   "cell_type": "markdown",
   "metadata": {},
   "source": [
    "### Task 5: Signal Processing Correlation (5 Points)\n",
    "\n",
    "- Task: Compute the dot product correlation between two 3x3 matrices to measure similarity, commonly used in image processing and machine learning.\n",
    "\n",
    "- Significance: The dot product quantifies how similar two matrices are, crucial in pattern recognition.\n",
    "\n",
    "- Output: Display the dot product of the 2 matrices\n",
    "\n",
    "\n"
   ]
  },
  {
   "cell_type": "code",
   "execution_count": 45,
   "metadata": {},
   "outputs": [
    {
     "name": "stdout",
     "output_type": "stream",
     "text": [
      "10\n"
     ]
    }
   ],
   "source": [
    "filter1 = np.array([\n",
    "    [1,1,1],\n",
    "    [1,0,1],\n",
    "    [1,1,1]\n",
    "])\n",
    "\n",
    "filter2 = np.array([\n",
    "    [1,1,2],\n",
    "    [1,2,1],\n",
    "    [2,1,1]\n",
    "])\n",
    "\n",
    "# Code goes here\n",
    "dot = np.sum(filter1*filter2) \n",
    "print(dot)"
   ]
  },
  {
   "cell_type": "markdown",
   "metadata": {},
   "source": [
    "### Task 6: Solving Electrical Circuit Equations (15 Points)\n",
    "\n",
    "- Task: Solve the linear equation system $V = IR$ to determine Current($I$) in the circuit, given the Voltage($V$) and Resistor($R$) values\n",
    "\n",
    "- Significance: Solving linear systems is key in engineering, physics, and optimization models.\n",
    "\n",
    "- Hint: Use [`np.linalg` library](https://numpy.org/doc/2.1/reference/routines.linalg.html) to solve the system of equations $R$ and $V$ to find $I$\n",
    "\n",
    "- Output: Display the Current values\n"
   ]
  },
  {
   "cell_type": "code",
   "execution_count": 46,
   "metadata": {},
   "outputs": [
    {
     "name": "stdout",
     "output_type": "stream",
     "text": [
      "[[1.  ]\n",
      " [0.75]\n",
      " [0.  ]]\n"
     ]
    }
   ],
   "source": [
    "V = np.array([[4,4,0]])\n",
    "R = np.array([\n",
    "    [13, -12, 3],\n",
    "    [1, 4, 1],\n",
    "    [3, -4, -1]\n",
    "])\n",
    "\n",
    "new_V = V.reshape(-1, 1)\n",
    "# Code goes here\n",
    "I = np.linalg.inv(R) @ new_V\n",
    "print(I)"
   ]
  },
  {
   "cell_type": "markdown",
   "metadata": {},
   "source": [
    "## Part 2: Pandas (60 Points)\n",
    "\n",
    "In this section you **MUST** reuse the results from previous question wherever possible. **DO NOT RE-WRITE CODE**"
   ]
  },
  {
   "cell_type": "code",
   "execution_count": 47,
   "metadata": {},
   "outputs": [],
   "source": [
    "import pandas as pd"
   ]
  },
  {
   "cell_type": "markdown",
   "metadata": {},
   "source": [
    "### Task 1: Reading CSV files (5 Points)\n",
    "\n",
    "- Task: Load and display the first five rows of the StudentPerformance.csv data to inspect its structure.\n",
    "\n",
    "- Significance: Reading data is the first step in analysis, allowing us to explore data organization."
   ]
  },
  {
   "cell_type": "code",
   "execution_count": 48,
   "metadata": {},
   "outputs": [
    {
     "data": {
      "text/html": [
       "<div>\n",
       "<style scoped>\n",
       "    .dataframe tbody tr th:only-of-type {\n",
       "        vertical-align: middle;\n",
       "    }\n",
       "\n",
       "    .dataframe tbody tr th {\n",
       "        vertical-align: top;\n",
       "    }\n",
       "\n",
       "    .dataframe thead th {\n",
       "        text-align: right;\n",
       "    }\n",
       "</style>\n",
       "<table border=\"1\" class=\"dataframe\">\n",
       "  <thead>\n",
       "    <tr style=\"text-align: right;\">\n",
       "      <th></th>\n",
       "      <th>gender</th>\n",
       "      <th>race/ethnicity</th>\n",
       "      <th>parental level of education</th>\n",
       "      <th>lunch</th>\n",
       "      <th>test preparation course</th>\n",
       "      <th>math score</th>\n",
       "      <th>reading score</th>\n",
       "      <th>writing score</th>\n",
       "    </tr>\n",
       "  </thead>\n",
       "  <tbody>\n",
       "    <tr>\n",
       "      <th>0</th>\n",
       "      <td>female</td>\n",
       "      <td>group B</td>\n",
       "      <td>bachelor's degree</td>\n",
       "      <td>standard</td>\n",
       "      <td>none</td>\n",
       "      <td>NaN</td>\n",
       "      <td>72.0</td>\n",
       "      <td>74.0</td>\n",
       "    </tr>\n",
       "    <tr>\n",
       "      <th>1</th>\n",
       "      <td>female</td>\n",
       "      <td>group C</td>\n",
       "      <td>some college</td>\n",
       "      <td>standard</td>\n",
       "      <td>completed</td>\n",
       "      <td>69.0</td>\n",
       "      <td>90.0</td>\n",
       "      <td>88.0</td>\n",
       "    </tr>\n",
       "    <tr>\n",
       "      <th>2</th>\n",
       "      <td>female</td>\n",
       "      <td>group B</td>\n",
       "      <td>master's degree</td>\n",
       "      <td>standard</td>\n",
       "      <td>none</td>\n",
       "      <td>90.0</td>\n",
       "      <td>NaN</td>\n",
       "      <td>93.0</td>\n",
       "    </tr>\n",
       "    <tr>\n",
       "      <th>3</th>\n",
       "      <td>male</td>\n",
       "      <td>group A</td>\n",
       "      <td>NaN</td>\n",
       "      <td>free/reduced</td>\n",
       "      <td>NaN</td>\n",
       "      <td>NaN</td>\n",
       "      <td>57.0</td>\n",
       "      <td>44.0</td>\n",
       "    </tr>\n",
       "    <tr>\n",
       "      <th>4</th>\n",
       "      <td>male</td>\n",
       "      <td>group C</td>\n",
       "      <td>some college</td>\n",
       "      <td>NaN</td>\n",
       "      <td>NaN</td>\n",
       "      <td>76.0</td>\n",
       "      <td>NaN</td>\n",
       "      <td>NaN</td>\n",
       "    </tr>\n",
       "  </tbody>\n",
       "</table>\n",
       "</div>"
      ],
      "text/plain": [
       "   gender race/ethnicity parental level of education         lunch  \\\n",
       "0  female        group B           bachelor's degree      standard   \n",
       "1  female        group C                some college      standard   \n",
       "2  female        group B             master's degree      standard   \n",
       "3    male        group A                         NaN  free/reduced   \n",
       "4    male        group C                some college           NaN   \n",
       "\n",
       "  test preparation course  math score  reading score  writing score  \n",
       "0                    none         NaN           72.0           74.0  \n",
       "1               completed        69.0           90.0           88.0  \n",
       "2                    none        90.0            NaN           93.0  \n",
       "3                     NaN         NaN           57.0           44.0  \n",
       "4                     NaN        76.0            NaN            NaN  "
      ]
     },
     "execution_count": 48,
     "metadata": {},
     "output_type": "execute_result"
    }
   ],
   "source": [
    "# Code goes here\n",
    "df = pd.read_csv('StudentsPerformance.csv')\n",
    "df.head()"
   ]
  },
  {
   "cell_type": "markdown",
   "metadata": {},
   "source": [
    "### Task 2: DataFrame Inspection (10 Points)\n",
    "\n",
    "- Task: Display key details such as data types, missing values, and overall structure. (5 Points)\n",
    "\n",
    "- Significance: Understanding data structure ensures appropriate cleaning and transformations.\n"
   ]
  },
  {
   "cell_type": "code",
   "execution_count": 49,
   "metadata": {},
   "outputs": [
    {
     "name": "stdout",
     "output_type": "stream",
     "text": [
      "Data Types:\n",
      " gender                          object\n",
      "race/ethnicity                  object\n",
      "parental level of education     object\n",
      "lunch                           object\n",
      "test preparation course         object\n",
      "math score                     float64\n",
      "reading score                  float64\n",
      "writing score                  float64\n",
      "dtype: object\n",
      "\n",
      "Missing Values:\n",
      " gender                         101\n",
      "race/ethnicity                  96\n",
      "parental level of education     95\n",
      "lunch                          100\n",
      "test preparation course         85\n",
      "math score                     106\n",
      "reading score                   98\n",
      "writing score                  115\n",
      "dtype: int64\n",
      "\n",
      "Summary Statistics:\n",
      "        math score  reading score  writing score\n",
      "count  894.000000     902.000000     885.000000\n",
      "mean    66.360179      69.205100      68.058757\n",
      "std     15.278820      14.484676      15.126351\n",
      "min      0.000000      17.000000      15.000000\n",
      "25%     57.000000      59.000000      57.000000\n",
      "50%     67.000000      70.000000      69.000000\n",
      "75%     77.000000      79.000000      79.000000\n",
      "max    100.000000     100.000000     100.000000\n"
     ]
    }
   ],
   "source": [
    "# Code goes here\n",
    "print(\"Data Types:\\n\", df.dtypes)\n",
    "print(\"\\nMissing Values:\\n\", df.isnull().sum())\n",
    "print(\"\\nSummary Statistics:\\n\", df.describe())"
   ]
  },
  {
   "cell_type": "markdown",
   "metadata": {},
   "source": [
    "What did you observe in the data? (5 Points) </br></br>\n",
    "Several columns have missing values, particularly writing score (115 missing), math score (106 missing), and gender (101 missing). The missing values could impact analysis and may require imputation or removal of incomplete rows. The presence of 0 in math scores might indicate missing data encoded as zeros or students who did not attempt the test, which can be an outlier. Categorical columns such as gender, race/ethnicity, parental level of education, lunch, and test preparation course are stored as objects. The math score, reading score, and writing score columns are numerical (float64), which is expected."
   ]
  },
  {
   "cell_type": "markdown",
   "metadata": {},
   "source": [
    "### Task 3: Data Cleaning (10 Points)\n",
    "\n",
    "- Task: Remove incomplete rows and reset the index (if needed) to ensure data integrity.\n",
    "\n",
    "- Significance: Cleaning data improves accuracy in analysis and machine learning models."
   ]
  },
  {
   "cell_type": "code",
   "execution_count": 50,
   "metadata": {},
   "outputs": [
    {
     "name": "stdout",
     "output_type": "stream",
     "text": [
      "1000\n",
      "440\n",
      "gender                         0\n",
      "race/ethnicity                 0\n",
      "parental level of education    0\n",
      "lunch                          0\n",
      "test preparation course        0\n",
      "math score                     0\n",
      "reading score                  0\n",
      "writing score                  0\n",
      "dtype: int64\n"
     ]
    },
    {
     "data": {
      "text/html": [
       "<div>\n",
       "<style scoped>\n",
       "    .dataframe tbody tr th:only-of-type {\n",
       "        vertical-align: middle;\n",
       "    }\n",
       "\n",
       "    .dataframe tbody tr th {\n",
       "        vertical-align: top;\n",
       "    }\n",
       "\n",
       "    .dataframe thead th {\n",
       "        text-align: right;\n",
       "    }\n",
       "</style>\n",
       "<table border=\"1\" class=\"dataframe\">\n",
       "  <thead>\n",
       "    <tr style=\"text-align: right;\">\n",
       "      <th></th>\n",
       "      <th>gender</th>\n",
       "      <th>race/ethnicity</th>\n",
       "      <th>parental level of education</th>\n",
       "      <th>lunch</th>\n",
       "      <th>test preparation course</th>\n",
       "      <th>math score</th>\n",
       "      <th>reading score</th>\n",
       "      <th>writing score</th>\n",
       "    </tr>\n",
       "  </thead>\n",
       "  <tbody>\n",
       "    <tr>\n",
       "      <th>0</th>\n",
       "      <td>female</td>\n",
       "      <td>group C</td>\n",
       "      <td>some college</td>\n",
       "      <td>standard</td>\n",
       "      <td>completed</td>\n",
       "      <td>69.0</td>\n",
       "      <td>90.0</td>\n",
       "      <td>88.0</td>\n",
       "    </tr>\n",
       "    <tr>\n",
       "      <th>1</th>\n",
       "      <td>female</td>\n",
       "      <td>group B</td>\n",
       "      <td>some college</td>\n",
       "      <td>standard</td>\n",
       "      <td>completed</td>\n",
       "      <td>88.0</td>\n",
       "      <td>95.0</td>\n",
       "      <td>92.0</td>\n",
       "    </tr>\n",
       "    <tr>\n",
       "      <th>2</th>\n",
       "      <td>male</td>\n",
       "      <td>group B</td>\n",
       "      <td>some college</td>\n",
       "      <td>free/reduced</td>\n",
       "      <td>none</td>\n",
       "      <td>40.0</td>\n",
       "      <td>43.0</td>\n",
       "      <td>39.0</td>\n",
       "    </tr>\n",
       "    <tr>\n",
       "      <th>3</th>\n",
       "      <td>male</td>\n",
       "      <td>group D</td>\n",
       "      <td>high school</td>\n",
       "      <td>free/reduced</td>\n",
       "      <td>completed</td>\n",
       "      <td>64.0</td>\n",
       "      <td>64.0</td>\n",
       "      <td>67.0</td>\n",
       "    </tr>\n",
       "    <tr>\n",
       "      <th>4</th>\n",
       "      <td>male</td>\n",
       "      <td>group D</td>\n",
       "      <td>associate's degree</td>\n",
       "      <td>standard</td>\n",
       "      <td>none</td>\n",
       "      <td>40.0</td>\n",
       "      <td>52.0</td>\n",
       "      <td>43.0</td>\n",
       "    </tr>\n",
       "  </tbody>\n",
       "</table>\n",
       "</div>"
      ],
      "text/plain": [
       "   gender race/ethnicity parental level of education         lunch  \\\n",
       "0  female        group C                some college      standard   \n",
       "1  female        group B                some college      standard   \n",
       "2    male        group B                some college  free/reduced   \n",
       "3    male        group D                 high school  free/reduced   \n",
       "4    male        group D          associate's degree      standard   \n",
       "\n",
       "  test preparation course  math score  reading score  writing score  \n",
       "0               completed        69.0           90.0           88.0  \n",
       "1               completed        88.0           95.0           92.0  \n",
       "2                    none        40.0           43.0           39.0  \n",
       "3               completed        64.0           64.0           67.0  \n",
       "4                    none        40.0           52.0           43.0  "
      ]
     },
     "execution_count": 50,
     "metadata": {},
     "output_type": "execute_result"
    }
   ],
   "source": [
    "# Code goes here\n",
    "print(len(df))\n",
    "#assumed data did not need to be preserved or imputed. \n",
    "df_filtered = df.dropna().reset_index(drop=True)\n",
    "df_filtered.to_csv('final_clean.csv', index=False)\n",
    "\n",
    "print(len(df_filtered))\n",
    "print(df_filtered.isnull().sum())\n",
    "df_filtered.head()"
   ]
  },
  {
   "cell_type": "markdown",
   "metadata": {},
   "source": [
    "### Task 4: Filtering Data (10 Points)\n",
    "\n",
    "- Task: Identify students who scored above 80 in math and completed the test preparation course.\n",
    "\n",
    "- Significance: Filtering helps extract relevant subsets of data for focused analysis.\n",
    "\n",
    "- Output: Display all details of the filtered students"
   ]
  },
  {
   "cell_type": "code",
   "execution_count": 51,
   "metadata": {},
   "outputs": [
    {
     "name": "stdout",
     "output_type": "stream",
     "text": [
      "     gender race/ethnicity parental level of education         lunch  \\\n",
      "1    female        group B                some college      standard   \n",
      "16     male        group E          associate's degree      standard   \n",
      "24     male        group C                 high school      standard   \n",
      "43     male        group C                some college      standard   \n",
      "49     male        group B          associate's degree      standard   \n",
      "50   female        group C                some college      standard   \n",
      "54     male        group E                some college  free/reduced   \n",
      "59     male        group E          associate's degree  free/reduced   \n",
      "67     male        group B          associate's degree  free/reduced   \n",
      "70   female        group C           bachelor's degree      standard   \n",
      "75   female        group C             master's degree      standard   \n",
      "77   female        group D            some high school      standard   \n",
      "94   female        group E          associate's degree  free/reduced   \n",
      "99     male        group C           bachelor's degree      standard   \n",
      "124    male        group B          associate's degree      standard   \n",
      "132    male        group A                some college  free/reduced   \n",
      "137    male        group E                some college      standard   \n",
      "165  female        group D                some college      standard   \n",
      "169  female        group D             master's degree  free/reduced   \n",
      "185    male        group E                some college      standard   \n",
      "190  female        group C          associate's degree  free/reduced   \n",
      "204    male        group C                 high school      standard   \n",
      "223  female        group E          associate's degree      standard   \n",
      "239    male        group A          associate's degree      standard   \n",
      "243  female        group A            some high school      standard   \n",
      "245    male        group B           bachelor's degree  free/reduced   \n",
      "248    male        group C           bachelor's degree      standard   \n",
      "251  female        group E           bachelor's degree  free/reduced   \n",
      "260  female        group C           bachelor's degree      standard   \n",
      "266    male        group D             master's degree  free/reduced   \n",
      "274    male        group A                some college      standard   \n",
      "284  female        group D                some college      standard   \n",
      "290    male        group D          associate's degree      standard   \n",
      "297    male        group E                some college      standard   \n",
      "312  female        group C          associate's degree      standard   \n",
      "314    male        group E          associate's degree  free/reduced   \n",
      "343    male        group C           bachelor's degree      standard   \n",
      "360    male        group E            some high school      standard   \n",
      "375    male        group D                some college      standard   \n",
      "380    male        group B          associate's degree      standard   \n",
      "385  female        group E                some college      standard   \n",
      "386    male        group D            some high school      standard   \n",
      "401    male        group B                some college      standard   \n",
      "409    male        group C          associate's degree      standard   \n",
      "438  female        group E             master's degree      standard   \n",
      "\n",
      "    test preparation course  math score  reading score  writing score  \n",
      "1                 completed        88.0           95.0           92.0  \n",
      "16                completed        81.0           81.0           79.0  \n",
      "24                completed        82.0           84.0           82.0  \n",
      "43                completed        98.0           86.0           90.0  \n",
      "49                completed        91.0           89.0           92.0  \n",
      "50                completed        88.0           93.0           93.0  \n",
      "54                completed        87.0           74.0           70.0  \n",
      "59                completed       100.0          100.0           93.0  \n",
      "67                completed        82.0           78.0           74.0  \n",
      "70                completed        96.0          100.0          100.0  \n",
      "75                completed        81.0           91.0           87.0  \n",
      "77                completed        97.0          100.0          100.0  \n",
      "94                completed        83.0           86.0           88.0  \n",
      "99                completed        83.0           82.0           84.0  \n",
      "124               completed        81.0           82.0           82.0  \n",
      "132               completed        81.0           78.0           81.0  \n",
      "137               completed        99.0           87.0           81.0  \n",
      "165               completed        82.0           97.0           96.0  \n",
      "169               completed        85.0           95.0          100.0  \n",
      "185               completed        84.0           83.0           78.0  \n",
      "190               completed        82.0           93.0           93.0  \n",
      "204               completed        86.0           81.0           80.0  \n",
      "223               completed        95.0           89.0           92.0  \n",
      "239               completed        97.0           92.0           86.0  \n",
      "243               completed        92.0          100.0           97.0  \n",
      "245               completed        87.0           90.0           88.0  \n",
      "248               completed        96.0           90.0           92.0  \n",
      "251               completed        92.0          100.0          100.0  \n",
      "260               completed        92.0          100.0           99.0  \n",
      "266               completed        84.0           89.0           90.0  \n",
      "274               completed       100.0           96.0           86.0  \n",
      "284               completed        85.0           86.0           98.0  \n",
      "290               completed        81.0           72.0           77.0  \n",
      "297               completed        85.0           75.0           68.0  \n",
      "312               completed        96.0           96.0           99.0  \n",
      "314               completed        91.0           73.0           80.0  \n",
      "343               completed        91.0           81.0           79.0  \n",
      "360               completed        87.0           84.0           76.0  \n",
      "375               completed        82.0           82.0           88.0  \n",
      "380               completed        82.0           84.0           78.0  \n",
      "385               completed        86.0           85.0           91.0  \n",
      "386               completed        88.0           74.0           75.0  \n",
      "401               completed        91.0           96.0           91.0  \n",
      "409               completed        98.0           87.0           90.0  \n",
      "438               completed        88.0           99.0           95.0  \n"
     ]
    }
   ],
   "source": [
    "# Code goes here\n",
    "#Assuming we are to use the cleaned dataframe to complete this as stated at the beginning of this portion of tasks \"you MUST reuse the results from previous question wherever possible\"\n",
    "\n",
    "high_math_scores = df_filtered[(df_filtered[\"math score\"] > 80) & (df_filtered[\"test preparation course\"] == \"completed\")]\n",
    "print(high_math_scores)"
   ]
  },
  {
   "cell_type": "markdown",
   "metadata": {},
   "source": [
    "### Task 5: Using `apply` Function (10 Points)\n",
    "\n",
    "- Task: Categorize students based on math scores into \"High\", \"Medium\", and \"Low\" categories (Add the details to the original Data Frame)\n",
    "\n",
    "- Significance: The apply function is useful for transforming and categorizing data efficiently.\n",
    "\n",
    "- Output: Display the top 10 rows of the data after modifying the Data Frame\n"
   ]
  },
  {
   "cell_type": "code",
   "execution_count": 52,
   "metadata": {
    "scrolled": true
   },
   "outputs": [
    {
     "data": {
      "text/html": [
       "<div>\n",
       "<style scoped>\n",
       "    .dataframe tbody tr th:only-of-type {\n",
       "        vertical-align: middle;\n",
       "    }\n",
       "\n",
       "    .dataframe tbody tr th {\n",
       "        vertical-align: top;\n",
       "    }\n",
       "\n",
       "    .dataframe thead th {\n",
       "        text-align: right;\n",
       "    }\n",
       "</style>\n",
       "<table border=\"1\" class=\"dataframe\">\n",
       "  <thead>\n",
       "    <tr style=\"text-align: right;\">\n",
       "      <th></th>\n",
       "      <th>gender</th>\n",
       "      <th>race/ethnicity</th>\n",
       "      <th>parental level of education</th>\n",
       "      <th>lunch</th>\n",
       "      <th>test preparation course</th>\n",
       "      <th>math score</th>\n",
       "      <th>reading score</th>\n",
       "      <th>writing score</th>\n",
       "      <th>math_category</th>\n",
       "    </tr>\n",
       "  </thead>\n",
       "  <tbody>\n",
       "    <tr>\n",
       "      <th>0</th>\n",
       "      <td>female</td>\n",
       "      <td>group B</td>\n",
       "      <td>bachelor's degree</td>\n",
       "      <td>standard</td>\n",
       "      <td>none</td>\n",
       "      <td>NaN</td>\n",
       "      <td>72.0</td>\n",
       "      <td>74.0</td>\n",
       "      <td>Medium</td>\n",
       "    </tr>\n",
       "    <tr>\n",
       "      <th>1</th>\n",
       "      <td>female</td>\n",
       "      <td>group C</td>\n",
       "      <td>some college</td>\n",
       "      <td>standard</td>\n",
       "      <td>completed</td>\n",
       "      <td>69.0</td>\n",
       "      <td>90.0</td>\n",
       "      <td>88.0</td>\n",
       "      <td>Medium</td>\n",
       "    </tr>\n",
       "    <tr>\n",
       "      <th>2</th>\n",
       "      <td>female</td>\n",
       "      <td>group B</td>\n",
       "      <td>master's degree</td>\n",
       "      <td>standard</td>\n",
       "      <td>none</td>\n",
       "      <td>90.0</td>\n",
       "      <td>NaN</td>\n",
       "      <td>93.0</td>\n",
       "      <td>High</td>\n",
       "    </tr>\n",
       "    <tr>\n",
       "      <th>3</th>\n",
       "      <td>male</td>\n",
       "      <td>group A</td>\n",
       "      <td>NaN</td>\n",
       "      <td>free/reduced</td>\n",
       "      <td>NaN</td>\n",
       "      <td>NaN</td>\n",
       "      <td>57.0</td>\n",
       "      <td>44.0</td>\n",
       "      <td>Medium</td>\n",
       "    </tr>\n",
       "    <tr>\n",
       "      <th>4</th>\n",
       "      <td>male</td>\n",
       "      <td>group C</td>\n",
       "      <td>some college</td>\n",
       "      <td>NaN</td>\n",
       "      <td>NaN</td>\n",
       "      <td>76.0</td>\n",
       "      <td>NaN</td>\n",
       "      <td>NaN</td>\n",
       "      <td>High</td>\n",
       "    </tr>\n",
       "    <tr>\n",
       "      <th>5</th>\n",
       "      <td>female</td>\n",
       "      <td>group B</td>\n",
       "      <td>NaN</td>\n",
       "      <td>standard</td>\n",
       "      <td>none</td>\n",
       "      <td>71.0</td>\n",
       "      <td>83.0</td>\n",
       "      <td>NaN</td>\n",
       "      <td>Medium</td>\n",
       "    </tr>\n",
       "    <tr>\n",
       "      <th>6</th>\n",
       "      <td>female</td>\n",
       "      <td>group B</td>\n",
       "      <td>some college</td>\n",
       "      <td>standard</td>\n",
       "      <td>completed</td>\n",
       "      <td>88.0</td>\n",
       "      <td>95.0</td>\n",
       "      <td>92.0</td>\n",
       "      <td>High</td>\n",
       "    </tr>\n",
       "    <tr>\n",
       "      <th>7</th>\n",
       "      <td>male</td>\n",
       "      <td>group B</td>\n",
       "      <td>some college</td>\n",
       "      <td>free/reduced</td>\n",
       "      <td>none</td>\n",
       "      <td>40.0</td>\n",
       "      <td>43.0</td>\n",
       "      <td>39.0</td>\n",
       "      <td>Medium</td>\n",
       "    </tr>\n",
       "    <tr>\n",
       "      <th>8</th>\n",
       "      <td>male</td>\n",
       "      <td>group D</td>\n",
       "      <td>high school</td>\n",
       "      <td>free/reduced</td>\n",
       "      <td>completed</td>\n",
       "      <td>64.0</td>\n",
       "      <td>64.0</td>\n",
       "      <td>67.0</td>\n",
       "      <td>Medium</td>\n",
       "    </tr>\n",
       "    <tr>\n",
       "      <th>9</th>\n",
       "      <td>female</td>\n",
       "      <td>group B</td>\n",
       "      <td>high school</td>\n",
       "      <td>free/reduced</td>\n",
       "      <td>none</td>\n",
       "      <td>NaN</td>\n",
       "      <td>60.0</td>\n",
       "      <td>50.0</td>\n",
       "      <td>Medium</td>\n",
       "    </tr>\n",
       "  </tbody>\n",
       "</table>\n",
       "</div>"
      ],
      "text/plain": [
       "   gender race/ethnicity parental level of education         lunch  \\\n",
       "0  female        group B           bachelor's degree      standard   \n",
       "1  female        group C                some college      standard   \n",
       "2  female        group B             master's degree      standard   \n",
       "3    male        group A                         NaN  free/reduced   \n",
       "4    male        group C                some college           NaN   \n",
       "5  female        group B                         NaN      standard   \n",
       "6  female        group B                some college      standard   \n",
       "7    male        group B                some college  free/reduced   \n",
       "8    male        group D                 high school  free/reduced   \n",
       "9  female        group B                 high school  free/reduced   \n",
       "\n",
       "  test preparation course  math score  reading score  writing score  \\\n",
       "0                    none         NaN           72.0           74.0   \n",
       "1               completed        69.0           90.0           88.0   \n",
       "2                    none        90.0            NaN           93.0   \n",
       "3                     NaN         NaN           57.0           44.0   \n",
       "4                     NaN        76.0            NaN            NaN   \n",
       "5                    none        71.0           83.0            NaN   \n",
       "6               completed        88.0           95.0           92.0   \n",
       "7                    none        40.0           43.0           39.0   \n",
       "8               completed        64.0           64.0           67.0   \n",
       "9                    none         NaN           60.0           50.0   \n",
       "\n",
       "  math_category  \n",
       "0        Medium  \n",
       "1        Medium  \n",
       "2          High  \n",
       "3        Medium  \n",
       "4          High  \n",
       "5        Medium  \n",
       "6          High  \n",
       "7        Medium  \n",
       "8        Medium  \n",
       "9        Medium  "
      ]
     },
     "execution_count": 52,
     "metadata": {},
     "output_type": "execute_result"
    }
   ],
   "source": [
    "# Code goes here\n",
    "#Due to mixed signal directions where it is stated\"you MUST reuse the results from previous question wherever possible\" and Add the details to the original Data Frame, I have decided to add it to both dataframes and display both as well.  \n",
    "def math_category(math):\n",
    "    if math <= 25:\n",
    "        return 'Low'\n",
    "    elif math >= 76:\n",
    "        return 'High'\n",
    "    else:\n",
    "        return 'Medium'\n",
    "\n",
    "df_filtered['math_category'] = df_filtered['math score'].apply(math_category)#cleaned dataframe\n",
    "df['math_category'] = df['math score'].apply(math_category)#original datafram\n",
    "df.head(10)#original\n",
    "#print(df_filtered.head(10))#cleaned"
   ]
  },
  {
   "cell_type": "markdown",
   "metadata": {},
   "source": [
    "### Task 6: GroupBy Analysis (15 Points)\n",
    "\n",
    "- As a Data Scientist, on of your core responsibilites is to extract meaningful insights by asking the right questions from the data and finding answers to them. The `groupby` operation in Pandas enables you to explore and find answers to various analytical questions efficiently\n",
    "\n",
    "- For each of the following questions, extract answers from the data\n",
    "\n",
    "1. How are students performing across different parental education levels? (use mean) - 5 Points\n",
    "2. What is the average test score for each gender? - 5 Points\n",
    "3. Which test has the highest average scores? - 5 Points"
   ]
  },
  {
   "cell_type": "code",
   "execution_count": 53,
   "metadata": {},
   "outputs": [
    {
     "data": {
      "text/html": [
       "<div>\n",
       "<style scoped>\n",
       "    .dataframe tbody tr th:only-of-type {\n",
       "        vertical-align: middle;\n",
       "    }\n",
       "\n",
       "    .dataframe tbody tr th {\n",
       "        vertical-align: top;\n",
       "    }\n",
       "\n",
       "    .dataframe thead th {\n",
       "        text-align: right;\n",
       "    }\n",
       "</style>\n",
       "<table border=\"1\" class=\"dataframe\">\n",
       "  <thead>\n",
       "    <tr style=\"text-align: right;\">\n",
       "      <th></th>\n",
       "      <th>math score</th>\n",
       "      <th>reading score</th>\n",
       "      <th>writing score</th>\n",
       "    </tr>\n",
       "    <tr>\n",
       "      <th>parental level of education</th>\n",
       "      <th></th>\n",
       "      <th></th>\n",
       "      <th></th>\n",
       "    </tr>\n",
       "  </thead>\n",
       "  <tbody>\n",
       "    <tr>\n",
       "      <th>associate's degree</th>\n",
       "      <td>67.597938</td>\n",
       "      <td>71.422680</td>\n",
       "      <td>71.195876</td>\n",
       "    </tr>\n",
       "    <tr>\n",
       "      <th>bachelor's degree</th>\n",
       "      <td>69.153846</td>\n",
       "      <td>73.365385</td>\n",
       "      <td>73.538462</td>\n",
       "    </tr>\n",
       "    <tr>\n",
       "      <th>high school</th>\n",
       "      <td>62.350000</td>\n",
       "      <td>63.862500</td>\n",
       "      <td>61.825000</td>\n",
       "    </tr>\n",
       "    <tr>\n",
       "      <th>master's degree</th>\n",
       "      <td>70.193548</td>\n",
       "      <td>76.225806</td>\n",
       "      <td>76.258065</td>\n",
       "    </tr>\n",
       "    <tr>\n",
       "      <th>some college</th>\n",
       "      <td>68.340000</td>\n",
       "      <td>70.550000</td>\n",
       "      <td>69.640000</td>\n",
       "    </tr>\n",
       "    <tr>\n",
       "      <th>some high school</th>\n",
       "      <td>62.037500</td>\n",
       "      <td>67.487500</td>\n",
       "      <td>65.675000</td>\n",
       "    </tr>\n",
       "  </tbody>\n",
       "</table>\n",
       "</div>"
      ],
      "text/plain": [
       "                             math score  reading score  writing score\n",
       "parental level of education                                          \n",
       "associate's degree            67.597938      71.422680      71.195876\n",
       "bachelor's degree             69.153846      73.365385      73.538462\n",
       "high school                   62.350000      63.862500      61.825000\n",
       "master's degree               70.193548      76.225806      76.258065\n",
       "some college                  68.340000      70.550000      69.640000\n",
       "some high school              62.037500      67.487500      65.675000"
      ]
     },
     "execution_count": 53,
     "metadata": {},
     "output_type": "execute_result"
    }
   ],
   "source": [
    "# Code for Question 1 \n",
    "df_filtered.groupby('parental level of education')[['math score','reading score','writing score']].mean()"
   ]
  },
  {
   "cell_type": "code",
   "execution_count": 54,
   "metadata": {},
   "outputs": [
    {
     "data": {
      "text/html": [
       "<div>\n",
       "<style scoped>\n",
       "    .dataframe tbody tr th:only-of-type {\n",
       "        vertical-align: middle;\n",
       "    }\n",
       "\n",
       "    .dataframe tbody tr th {\n",
       "        vertical-align: top;\n",
       "    }\n",
       "\n",
       "    .dataframe thead th {\n",
       "        text-align: right;\n",
       "    }\n",
       "</style>\n",
       "<table border=\"1\" class=\"dataframe\">\n",
       "  <thead>\n",
       "    <tr style=\"text-align: right;\">\n",
       "      <th></th>\n",
       "      <th>math score</th>\n",
       "      <th>reading score</th>\n",
       "      <th>writing score</th>\n",
       "    </tr>\n",
       "    <tr>\n",
       "      <th>gender</th>\n",
       "      <th></th>\n",
       "      <th></th>\n",
       "      <th></th>\n",
       "    </tr>\n",
       "  </thead>\n",
       "  <tbody>\n",
       "    <tr>\n",
       "      <th>female</th>\n",
       "      <td>64.318966</td>\n",
       "      <td>73.728448</td>\n",
       "      <td>73.577586</td>\n",
       "    </tr>\n",
       "    <tr>\n",
       "      <th>male</th>\n",
       "      <td>68.230769</td>\n",
       "      <td>65.211538</td>\n",
       "      <td>63.403846</td>\n",
       "    </tr>\n",
       "  </tbody>\n",
       "</table>\n",
       "</div>"
      ],
      "text/plain": [
       "        math score  reading score  writing score\n",
       "gender                                          \n",
       "female   64.318966      73.728448      73.577586\n",
       "male     68.230769      65.211538      63.403846"
      ]
     },
     "execution_count": 54,
     "metadata": {},
     "output_type": "execute_result"
    }
   ],
   "source": [
    "# Code for Question 2\n",
    "df_filtered.groupby('gender')[['math score','reading score','writing score']].mean()"
   ]
  },
  {
   "cell_type": "code",
   "execution_count": 55,
   "metadata": {},
   "outputs": [
    {
     "name": "stdout",
     "output_type": "stream",
     "text": [
      "math score       66.168182\n",
      "reading score    69.702273\n",
      "writing score    68.768182\n",
      "dtype: float64\n",
      "The test with the highest average score is: reading score 69.70227272727273\n"
     ]
    }
   ],
   "source": [
    "# Code for Question 3\n",
    "avg_scores = df_filtered[['math score', 'reading score', 'writing score']].mean()\n",
    "highest_avg_test = avg_scores.idxmax()\n",
    "highest_avg_value = avg_scores.max()\n",
    "print(avg_scores)\n",
    "print(\"The test with the highest average score is:\", highest_avg_test, highest_avg_value)"
   ]
  },
  {
   "cell_type": "markdown",
   "metadata": {},
   "source": [
    "What are a few other questions you can ask from the data? </br></br>\n",
    "Some questions are how does the test preparation course impact scores? Which race/ethnicity group scores the highest on average? Does lunch type affect scores?"
   ]
  },
  {
   "cell_type": "markdown",
   "metadata": {},
   "source": [
    "### Task 7: Concatenation (10 Points)\n",
    "\n",
    "- Task: Extract and combine the top and bottom 10 students by concatenating the subsets.\n",
    "\n",
    "- Significance: Concatenation helps in segmenting and appending datasets for comparison.\n",
    "\n",
    "- Output: Display the concatenated set"
   ]
  },
  {
   "cell_type": "code",
   "execution_count": 56,
   "metadata": {},
   "outputs": [
    {
     "name": "stdout",
     "output_type": "stream",
     "text": [
      "               gender race/ethnicity parental level of education  \\\n",
      "Top 10    210  female        group E           bachelor's degree   \n",
      "          77   female        group D            some high school   \n",
      "          70   female        group C           bachelor's degree   \n",
      "          59     male        group E          associate's degree   \n",
      "          418  female        group D             master's degree   \n",
      "          251  female        group E           bachelor's degree   \n",
      "          312  female        group C          associate's degree   \n",
      "          260  female        group C           bachelor's degree   \n",
      "          205  female        group E                some college   \n",
      "          243  female        group A            some high school   \n",
      "Bottom 10 261    male        group B                 high school   \n",
      "          8    female        group B            some high school   \n",
      "          264  female        group C                 high school   \n",
      "          345  female        group B                some college   \n",
      "          388    male        group B                 high school   \n",
      "          160  female        group D            some high school   \n",
      "          58   female        group C                some college   \n",
      "          38     male        group C                 high school   \n",
      "          368  female        group B                 high school   \n",
      "          296  female        group C            some high school   \n",
      "\n",
      "                      lunch test preparation course  math score  \\\n",
      "Top 10    210      standard                    none       100.0   \n",
      "          77       standard               completed        97.0   \n",
      "          70       standard               completed        96.0   \n",
      "          59   free/reduced               completed       100.0   \n",
      "          418      standard                    none        92.0   \n",
      "          251  free/reduced               completed        92.0   \n",
      "          312      standard               completed        96.0   \n",
      "          260      standard               completed        92.0   \n",
      "          205      standard                    none       100.0   \n",
      "          243      standard               completed        92.0   \n",
      "Bottom 10 261  free/reduced                    none        30.0   \n",
      "          8    free/reduced                    none        18.0   \n",
      "          264      standard                    none        29.0   \n",
      "          345      standard                    none        19.0   \n",
      "          388  free/reduced                    none        36.0   \n",
      "          160  free/reduced                    none        27.0   \n",
      "          58   free/reduced                    none        22.0   \n",
      "          38   free/reduced                    none        27.0   \n",
      "          368  free/reduced               completed        23.0   \n",
      "          296  free/reduced               completed        29.0   \n",
      "\n",
      "               reading score  writing score math_category  average score  \n",
      "Top 10    210          100.0          100.0          High     100.000000  \n",
      "          77           100.0          100.0          High      99.000000  \n",
      "          70           100.0          100.0          High      98.666667  \n",
      "          59           100.0           93.0          High      97.666667  \n",
      "          418          100.0          100.0          High      97.333333  \n",
      "          251          100.0          100.0          High      97.333333  \n",
      "          312           96.0           99.0          High      97.000000  \n",
      "          260          100.0           99.0          High      97.000000  \n",
      "          205           92.0           97.0          High      96.333333  \n",
      "          243          100.0           97.0          High      96.333333  \n",
      "Bottom 10 261           24.0           15.0        Medium      23.000000  \n",
      "          8             32.0           28.0           Low      26.000000  \n",
      "          264           29.0           30.0        Medium      29.333333  \n",
      "          345           38.0           32.0           Low      29.666667  \n",
      "          388           29.0           27.0        Medium      30.666667  \n",
      "          160           34.0           32.0        Medium      31.000000  \n",
      "          58            39.0           33.0           Low      31.333333  \n",
      "          38            34.0           36.0        Medium      32.333333  \n",
      "          368           44.0           36.0           Low      34.333333  \n",
      "          296           40.0           44.0        Medium      37.666667  \n"
     ]
    }
   ],
   "source": [
    "# Code goes here\n",
    "#Assuming we are to use the cleaned dataframe to complete this as stated at the beginning of this portion of tasks \"you MUST reuse the results from previous question wherever possible\"\n",
    "\n",
    "average_cat = df_filtered['average score'] = df_filtered[['math score', 'reading score', 'writing score']].mean(axis=1)\n",
    "\n",
    "sorted_df = df_filtered.sort_values(by='average score', ascending=False)#(top 10)\n",
    "sort_df = df_filtered.sort_values(by='average score', ascending= True)#(bottom 10)\n",
    "top_10_students = sorted_df.head(10)\n",
    "bottom_10_students = sort_df.head(10)\n",
    "\n",
    "combined_students = pd.concat([top_10_students, bottom_10_students], keys=['Top 10', 'Bottom 10'])\n",
    "\n",
    "print(combined_students)\n"
   ]
  },
  {
   "cell_type": "markdown",
   "metadata": {},
   "source": [
    "## Feedback\n",
    "What do you expect to learn from this course? </br></br>\n",
    "I am excited to further develop my skills in python and get a great and useful introduction to deep learning and LLMs."
   ]
  },
  {
   "cell_type": "markdown",
   "metadata": {},
   "source": [
    "<div class=\"alert alert-block alert-info\">\n",
    "<h2>Submission Instructions</h2> \n",
    "<b> File Name:</b> Please rename the file as netID_Lab01_Working with Numpy and Pandas.ipynb (eg: netID = adg133)<br>\n",
    "<b> Submit through: </b> CodeBench <br>\n",
    "<b>Warning:</b> Failure to follow directions may result in loss points.<br>\n",
    "</div>"
   ]
  }
 ],
 "metadata": {
  "kernelspec": {
   "display_name": "Python 3 (ipykernel)",
   "language": "python",
   "name": "python3"
  },
  "language_info": {
   "codemirror_mode": {
    "name": "ipython",
    "version": 3
   },
   "file_extension": ".py",
   "mimetype": "text/x-python",
   "name": "python",
   "nbconvert_exporter": "python",
   "pygments_lexer": "ipython3",
   "version": "3.12.7"
  }
 },
 "nbformat": 4,
 "nbformat_minor": 4
}
